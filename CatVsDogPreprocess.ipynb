{
 "cells": [
  {
   "cell_type": "markdown",
   "metadata": {},
   "source": [
    "### Preprocessing all images to 100x100x3"
   ]
  },
  {
   "cell_type": "code",
   "execution_count": null,
   "metadata": {},
   "outputs": [],
   "source": [
    "from PIL import Image\n",
    "import numpy as np\n",
    "import os\n",
    "import time\n",
    "import h5py\n",
    "import traceback"
   ]
  },
  {
   "cell_type": "code",
   "execution_count": null,
   "metadata": {},
   "outputs": [],
   "source": [
    "dataset_dir = os.getcwd() + \"\\\\CatvsDog\"\n",
    "print(dataset_dir)"
   ]
  },
  {
   "cell_type": "code",
   "execution_count": null,
   "metadata": {},
   "outputs": [],
   "source": [
    "img_path_lst = os.listdir(dataset_dir)\n",
    "print(img_path_lst[0:10])\n",
    "print(len(img_path_lst))"
   ]
  },
  {
   "cell_type": "code",
   "execution_count": null,
   "metadata": {},
   "outputs": [],
   "source": [
    "# New Folder for 100x100 images\n",
    "folder_path = os.getcwd() + \"\\\\CatvsDog300\"\n",
    "if not os.path.exists(folder_path):\n",
    "        os.makedirs(folder_path)\n",
    "for idx,fname in enumerate(img_path_lst):\n",
    "    im = Image.open(os.path.join(dataset_dir,fname)).convert(\"RGB\")\n",
    "    im= im.resize((100,100),Image.ANTIALIAS)\n",
    "    im.save(os.path.join(folder_path,fname),format=\"JPEG\")"
   ]
  },
  {
   "cell_type": "markdown",
   "metadata": {},
   "source": [
    "### Loading Data in Numpy Array and Writing H5"
   ]
  },
  {
   "cell_type": "code",
   "execution_count": null,
   "metadata": {},
   "outputs": [],
   "source": [
    "folder_path = os.getcwd() + \"\\\\CatvsDog100\"\n",
    "img_path_lst = os.listdir(folder_path)\n",
    "X = np.empty(shape=(331,100,100,3), dtype=np.uint8)\n",
    "Y = np.zeros(shape=(331,), dtype=np.uint8)\n",
    "for idx,fname in enumerate (img_path_lst):\n",
    "    my_im = Image.open(os.path.join(folder_path,fname))\n",
    "    assert (np.array(my_im,dtype=np.uint8).shape == (100,100,3))\n",
    "    #X[idx,:,:,:] = np.array(my_im,dtype=np.uint8)\n",
    "    X[idx] = np.array(my_im,dtype=np.uint8)\n",
    "    if not fname.startswith(\"d\"):\n",
    "        Y[idx] = 1        \n",
    "print(np.unique(Y,return_counts=True))\n",
    "#print(X[45])\n",
    "X = X/255.\n",
    "#print(X[45])"
   ]
  },
  {
   "cell_type": "code",
   "execution_count": null,
   "metadata": {},
   "outputs": [],
   "source": [
    "from sklearn.model_selection import train_test_split\n",
    "X_train, X_test, Y_train, Y_test = train_test_split(X,Y, test_size=0.3, random_state=40)\n",
    "print(\"Shape of Data \\n Training Data:{} Training Labels:{} \\n Testing Data:{} Tesing Labels: {}\".format(X_train.shape, \\\n",
    "                                                                Y_train.shape, X_test.shape,Y_test.shape))"
   ]
  },
  {
   "cell_type": "code",
   "execution_count": null,
   "metadata": {},
   "outputs": [],
   "source": [
    "import h5py\n",
    "with h5py.File('CatvsDog200_1903_1.h5','a') as h5_f:\n",
    "    h5_f.create_dataset(\"X_train\", data=X_train)\n",
    "    h5_f.create_dataset(\"X_test\", data=X_test)\n",
    "    h5_f.create_dataset(\"Y_train\", data=Y_train)\n",
    "    h5_f.create_dataset(\"Y_test\", data=Y_test)"
   ]
  },
  {
   "cell_type": "code",
   "execution_count": null,
   "metadata": {},
   "outputs": [],
   "source": [
    "with h5py.File('CatvsDog200_1903_1.h5','a') as PSL_handle:\n",
    "    X_train_chk = PSL_handle[\"X_train\"][:]\n",
    "    X_test_chk = PSL_handle[\"X_test\"][:]\n",
    "    Y_train_chk = PSL_handle[\"Y_train\"][:]\n",
    "    Y_test_chk = PSL_handle[\"Y_test\"][:]"
   ]
  },
  {
   "cell_type": "code",
   "execution_count": null,
   "metadata": {},
   "outputs": [],
   "source": [
    "#Verification\n",
    "print (np.array_equal(X_train_chk,X_train))"
   ]
  },
  {
   "cell_type": "code",
   "execution_count": null,
   "metadata": {},
   "outputs": [],
   "source": []
  }
 ],
 "metadata": {
  "kernelspec": {
   "display_name": "Python 3",
   "language": "python",
   "name": "python3"
  },
  "language_info": {
   "codemirror_mode": {
    "name": "ipython",
    "version": 3
   },
   "file_extension": ".py",
   "mimetype": "text/x-python",
   "name": "python",
   "nbconvert_exporter": "python",
   "pygments_lexer": "ipython3",
   "version": "3.6.8"
  }
 },
 "nbformat": 4,
 "nbformat_minor": 2
}
